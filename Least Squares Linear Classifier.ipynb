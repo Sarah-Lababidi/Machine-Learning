{
 "cells": [
  {
   "cell_type": "code",
   "execution_count": 1,
   "metadata": {
    "colab": {},
    "colab_type": "code",
    "id": "_cptCPv4yuvN"
   },
   "outputs": [],
   "source": [
    "import numpy as np\n",
    "import matplotlib.pyplot as plt"
   ]
  },
  {
   "cell_type": "code",
   "execution_count": 2,
   "metadata": {
    "colab": {},
    "colab_type": "code",
    "id": "ITu-LP_iyu3H"
   },
   "outputs": [],
   "source": [
    "def parse_files(root, num):\n",
    "  xtilda =  []\n",
    "  labels = []\n",
    "  label = 0\n",
    "  for i in range(1, (num*10)+1):\n",
    "    pixels = plt.imread(root+str(i)+'.jpg')\n",
    "    pixels = np.append(pixels, 1)\n",
    "    xtilda.append(pixels)\n",
    "    \n",
    "    # Add labels according to the filename\n",
    "    if(i%num == 0):\n",
    "      label = (i//num)-1\n",
    "    else:\n",
    "      label = i//num\n",
    "\n",
    "    labels.append(label)\n",
    "\n",
    "\n",
    "  xtilda = np.array(xtilda)  \n",
    "  labels = np.array(labels)\n",
    "  return xtilda, labels"
   ]
  },
  {
   "cell_type": "code",
   "execution_count": 3,
   "metadata": {
    "colab": {},
    "colab_type": "code",
    "id": "AMpWRqK1UMV8"
   },
   "outputs": [],
   "source": [
    "def target_values(labels):\n",
    "  t0=np.ones(labels.size)*-1\n",
    "  t1=np.ones(labels.size)*-1\n",
    "  t2=np.ones(labels.size)*-1\n",
    "  t3=np.ones(labels.size)*-1\n",
    "  t4=np.ones(labels.size)*-1\n",
    "  t5=np.ones(labels.size)*-1\n",
    "  t6=np.ones(labels.size)*-1\n",
    "  t7=np.ones(labels.size)*-1\n",
    "  t8=np.ones(labels.size)*-1\n",
    "  t9=np.ones(labels.size)*-1\n",
    "  \n",
    "  for i in range(0, labels.size):\n",
    "    if labels[i]==0:\n",
    "      t0[i]=1\n",
    "    elif labels[i]==1:\n",
    "      t1[i]=1\n",
    "    elif labels[i]==2:\n",
    "      t2[i]=1\n",
    "    elif labels[i]==3:\n",
    "      t3[i]=1\n",
    "    elif labels[i]==4:\n",
    "      t4[i]=1\n",
    "    elif labels[i]==5:\n",
    "      t5[i]=1\n",
    "    elif labels[i]==6:\n",
    "      t6[i]=1\n",
    "    elif labels[i]==7:\n",
    "      t7[i]=1\n",
    "    elif labels[i]==8:\n",
    "      t8[i]=1\n",
    "    elif labels[i]==9:\n",
    "      t9[i]=1\n",
    "  \n",
    "  return t0, t1, t2, t3, t4, t5, t6, t7, t8, t9\n",
    "  "
   ]
  },
  {
   "cell_type": "code",
   "execution_count": 4,
   "metadata": {
    "colab": {},
    "colab_type": "code",
    "id": "VG_dau-FkEPo"
   },
   "outputs": [],
   "source": [
    "def get_w(xtilda, t):\n",
    "  s1 = np.dot(xtilda.transpose(), xtilda)\n",
    "  s2 =  np.linalg.pinv(s1)\n",
    "  s3 = np.dot(s2, xtilda.transpose())\n",
    "  w = np.dot(s3, t)\n",
    "  return w"
   ]
  },
  {
   "cell_type": "code",
   "execution_count": 6,
   "metadata": {
    "colab": {},
    "colab_type": "code",
    "id": "kIcEmWPccYQm"
   },
   "outputs": [],
   "source": [
    "xtilda, labels = parse_files('C:\\\\Users\\\\Sarah\\\\Desktop\\\\Assignment1 ML\\\\Train\\\\', 240)\n",
    "t0, t1, t2, t3, t4, t5, t6, t7, t8, t9 = target_values(labels)\n",
    "\n",
    "w0 = get_w(xtilda, t0)\n",
    "w1 = get_w(xtilda, t1)\n",
    "w2 = get_w(xtilda, t2)\n",
    "w3 = get_w(xtilda, t3)\n",
    "w4 = get_w(xtilda, t4)\n",
    "w5 = get_w(xtilda, t5)\n",
    "w6 = get_w(xtilda, t6)\n",
    "w7 = get_w(xtilda, t7)\n",
    "w8 = get_w(xtilda, t8)\n",
    "w9 = get_w(xtilda, t9)"
   ]
  },
  {
   "cell_type": "markdown",
   "metadata": {
    "colab_type": "text",
    "id": "hoFCjejbonHB"
   },
   "source": [
    "**Test**"
   ]
  },
  {
   "cell_type": "code",
   "execution_count": 7,
   "metadata": {
    "colab": {},
    "colab_type": "code",
    "id": "SnIp5mSbpOB5"
   },
   "outputs": [],
   "source": [
    "def classify(xtilda, w0, w1, w2, w3, w4, w5, w6, w7, w8, w9):\n",
    "  labels =[]\n",
    "  for i in xtilda:\n",
    "    l0 = np.dot(w0.transpose(), i)\n",
    "    l1 = np.dot(w1.transpose(), i)\n",
    "    l2 = np.dot(w2.transpose(), i)\n",
    "    l3 = np.dot(w3.transpose(), i)\n",
    "    l4 = np.dot(w4.transpose(), i)\n",
    "    l5 = np.dot(w5.transpose(), i)\n",
    "    l6 = np.dot(w6.transpose(), i)\n",
    "    l7 = np.dot(w7.transpose(), i)\n",
    "    l8 = np.dot(w8.transpose(), i)\n",
    "    l9 = np.dot(w9.transpose(), i)\n",
    "    \n",
    "    values = [l0, l1, l2, l3, l4, l5, l6, l7, l8, l9]\n",
    "    label = values.index(max(values))\n",
    "    labels.append(label)\n",
    "  labels = np.array(labels)\n",
    "  return labels"
   ]
  },
  {
   "cell_type": "code",
   "execution_count": 8,
   "metadata": {
    "colab": {},
    "colab_type": "code",
    "id": "Z-qUL1iWqbCz"
   },
   "outputs": [],
   "source": [
    "def get_cm(true, predicted):\n",
    "  n = np.unique(true).size\n",
    "  cm = np.zeros(n*n).reshape(n, n)\n",
    "  for i in range(0, true.size):\n",
    "    cm[true[i]][predicted[i]]+=1\n",
    "    \n",
    "  cm = cm.astype(int)\n",
    "  return cm"
   ]
  },
  {
   "cell_type": "code",
   "execution_count": 9,
   "metadata": {
    "colab": {},
    "colab_type": "code",
    "id": "bhROk5oBv5wc"
   },
   "outputs": [],
   "source": [
    "def plot_cm(cm, classes):\n",
    "\n",
    "  fig, ax = plt.subplots(figsize=(10,10))\n",
    "  im = ax.imshow(cm, interpolation='nearest', cmap=plt.cm.Blues)\n",
    "  ax.figure.colorbar(im, ax=ax)\n",
    "  # We want to show all ticks...\n",
    "  ax.set(xticks=np.arange(cm.shape[1]),\n",
    "         yticks=np.arange(cm.shape[0]),\n",
    "         # ... and label them with the respective list entries\n",
    "         xticklabels=classes, yticklabels=classes,\n",
    "         title= 'confusion matrix',\n",
    "         ylabel='True label',\n",
    "         xlabel='Predicted label')\n",
    "  ax.set_ylim(len(cm)-0.5, -0.5)\n",
    "\n",
    "  # Rotate the tick labels and set their alignment.\n",
    "  plt.setp(ax.get_xticklabels(), rotation=45, ha=\"right\",\n",
    "           rotation_mode=\"anchor\")\n",
    "\n",
    "  # Loop over data dimensions and create text annotations.\n",
    "  thresh = cm.max() / 2.\n",
    "  for i in range(cm.shape[0]):\n",
    "      for j in range(cm.shape[1]):\n",
    "          ax.text(j, i, format(cm[i, j], 'd'),\n",
    "                  ha=\"center\", va=\"center\",\n",
    "                  color=\"white\" if cm[i, j] > thresh else \"black\")\n",
    "  fig.tight_layout()\n",
    "  plt.savefig('Confusion.jpg')\n",
    "  "
   ]
  },
  {
   "cell_type": "code",
   "execution_count": 10,
   "metadata": {
    "colab": {},
    "colab_type": "code",
    "id": "xcR3sz22okUy"
   },
   "outputs": [],
   "source": [
    "x_test, true_labels = parse_files('C:\\\\Users\\\\Sarah\\\\Desktop\\\\Assignment1 ML\\\\Test\\\\', 20)\n",
    "classified_labels = classify(x_test, w0, w1, w2, w3, w4, w5, w6, w7, w8, w9)"
   ]
  },
  {
   "cell_type": "code",
   "execution_count": 11,
   "metadata": {
    "colab": {
     "base_uri": "https://localhost:8080/",
     "height": 729
    },
    "colab_type": "code",
    "executionInfo": {
     "elapsed": 1503,
     "status": "ok",
     "timestamp": 1572326041607,
     "user": {
      "displayName": "Sarah Lababidi",
      "photoUrl": "",
      "userId": "16446544530091426355"
     },
     "user_tz": -120
    },
    "id": "TSyxzKMSrHlE",
    "outputId": "79219e67-89ba-4bb0-edc3-719e440e0a5b"
   },
   "outputs": [
    {
     "data": {
      "image/png": "[encoded data removed]",
      "text/plain": [
       "<Figure size 720x720 with 2 Axes>"
      ]
     },
     "metadata": {
      "needs_background": "light"
     },
     "output_type": "display_data"
    }
   ],
   "source": [
    "cm = get_cm(true_labels, classified_labels)\n",
    "classes = [0, 1, 2, 3, 4, 5, 6, 7, 8, 9]\n",
    "plot_cm(cm, classes)"
   ]
  },
  {
   "cell_type": "code",
   "execution_count": null,
   "metadata": {},
   "outputs": [],
   "source": []
  }
 ],
 "metadata": {
  "colab": {
   "collapsed_sections": [],
   "name": "Assignment1.ipynb",
   "provenance": []
  },
  "kernelspec": {
   "display_name": "Python 3",
   "language": "python",
   "name": "python3"
  },
  "language_info": {
   "codemirror_mode": {
    "name": "ipython",
    "version": 3
   },
   "file_extension": ".py",
   "mimetype": "text/x-python",
   "name": "python",
   "nbconvert_exporter": "python",
   "pygments_lexer": "ipython3",
   "version": "3.7.3"
  }
 },
 "nbformat": 4,
 "nbformat_minor": 1
}
