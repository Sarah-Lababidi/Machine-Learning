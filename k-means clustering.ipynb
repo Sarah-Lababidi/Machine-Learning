{
 "cells": [
  {
   "cell_type": "code",
   "execution_count": 1,
   "metadata": {},
   "outputs": [],
   "source": [
    "import numpy as np\n",
    "import matplotlib.pyplot as plt"
   ]
  },
  {
   "cell_type": "code",
   "execution_count": 2,
   "metadata": {},
   "outputs": [],
   "source": [
    "def parse_files(root, num):\n",
    "  xtilda =  []\n",
    "  for i in range(1, (num*10)+1):\n",
    "    pixels = plt.imread(root+str(i)+'.jpg')\n",
    "    pixels = np.where(pixels>140, 1, 0)\n",
    "    pixels = np.append(pixels, 1)\n",
    "    xtilda.append(pixels)\n",
    "    \n",
    "  xtilda = np.array(xtilda)  \n",
    "#   delete the ones column\n",
    "  xtilda = np.delete(xtilda, 784, axis=1)\n",
    "  return xtilda"
   ]
  },
  {
   "cell_type": "code",
   "execution_count": 3,
   "metadata": {},
   "outputs": [],
   "source": [
    "def in_list(np_arr, list):\n",
    "    for element in list:\n",
    "        if np.array_equal(np_arr, element):\n",
    "            return True\n",
    "    return False"
   ]
  },
  {
   "cell_type": "code",
   "execution_count": 4,
   "metadata": {},
   "outputs": [],
   "source": [
    "def initialize_means(random_index, x_train):\n",
    "    #     np.random.randint(low=0, high=2400)\n",
    "    means= []\n",
    "    distances = []\n",
    "    m = x_train[random_index]\n",
    "    means.append(m)\n",
    "    # do this 9 times to find 9 means (we already have one initialized randomly)\n",
    "    for c in range(0, 9):\n",
    "        distances = []\n",
    "        for i in range(0, len(x_train)):\n",
    "                distances.append(np.linalg.norm(x_train[i]-m))\n",
    "        distances = np.array(distances)\n",
    "        # get the indices of the 10 max elements (in case a max element is already a mean, we pick antother)\n",
    "        max_indices = np.argpartition(distances, -10)[-10:]\n",
    "        # pick a max element that is not in the means list\n",
    "        for index in max_indices:\n",
    "            if not(in_list(x_train[index], means)):\n",
    "                m = x_train[index]\n",
    "                break\n",
    "        means.append(m)\n",
    "    means = np.array(means)  \n",
    "    return means"
   ]
  },
  {
   "cell_type": "code",
   "execution_count": 5,
   "metadata": {},
   "outputs": [],
   "source": [
    "def get_rnk(means, x_train):\n",
    "    rnk = []\n",
    "    distances = []\n",
    "    for image in x_train:\n",
    "        distances = []\n",
    "        # compute the distance to all other centers\n",
    "        for mean in means:\n",
    "            distances.append(np.linalg.norm(image-mean))\n",
    "        # find the smallest distance index\n",
    "        distances = np.array(distances)\n",
    "        rnk.append(np.argmin(distances))\n",
    "    rnk = np.array(rnk)\n",
    "    return rnk"
   ]
  },
  {
   "cell_type": "code",
   "execution_count": 6,
   "metadata": {},
   "outputs": [],
   "source": [
    "def update_means(x_train, rnk):\n",
    "    unique_vals = np.unique(rnk)\n",
    "    means = []\n",
    "    for i in range(0, len(unique_vals)):\n",
    "        # find indices in x_train at which these rnk values exist\n",
    "        indices = np.argwhere(rnk ==i)\n",
    "        indices = indices.flatten()\n",
    "        m = (x_train[indices].sum(axis=0))/len(indices)\n",
    "        means.append(m)\n",
    "    means = np.array(means)\n",
    "    return means"
   ]
  },
  {
   "cell_type": "code",
   "execution_count": 7,
   "metadata": {},
   "outputs": [],
   "source": [
    "def k_means(x_train, init_means):\n",
    "    old_means = init_means\n",
    "    new_means = np.array([])\n",
    "    counter=0\n",
    "    while(not(np.array_equal(old_means, new_means))):\n",
    "        if(counter!=0):\n",
    "            old_means = new_means\n",
    "        rnk = get_rnk(old_means, x_train)\n",
    "        new_means = update_means(x_train, rnk)\n",
    "        counter+=1\n",
    "    return new_means"
   ]
  },
  {
   "cell_type": "code",
   "execution_count": 8,
   "metadata": {},
   "outputs": [],
   "source": [
    "def get_counts(membership_vector):\n",
    "    parts = np.split(membership_vector, 10)\n",
    "    freq=[]\n",
    "    for i in range(0, 10):\n",
    "        f = np.bincount(parts[i]).argmax()\n",
    "        freq.append(f)\n",
    "\n",
    "    # eg. [3, 0, 6, 5, 9, 5, 4, 7, 2, 2]\n",
    "    counts=[]\n",
    "    for i in range(0, 10):\n",
    "        count = len(np.where(parts[i]==freq[i])[0])\n",
    "        counts.append(count)\n",
    "    counts = np.array(counts)\n",
    "    return counts"
   ]
  },
  {
   "cell_type": "code",
   "execution_count": 9,
   "metadata": {},
   "outputs": [],
   "source": [
    "def repeat_30(x_train):\n",
    "     # should have the shape (30, 10, 784) where we have (10, 784) in each iteration\n",
    "    means_30=[]\n",
    "    # should have the shape (30, 2400) where we have (2400,) rnk in each iteration\n",
    "    memberships_30=[]\n",
    "    random_indices = np.random.choice(range(0,2399), size=30, replace=False)\n",
    "    for random_index in random_indices:\n",
    "        init_means = initialize_means(random_index, x_train)\n",
    "        means = k_means(x_train, init_means)\n",
    "        membership = get_rnk(means, x_train)\n",
    "        means_30.append(means)\n",
    "        memberships_30.append(membership)\n",
    "    means_30 = np.array(means_30)\n",
    "    memberships_30 = np.array(memberships_30)\n",
    "    return means_30, memberships_30"
   ]
  },
  {
   "cell_type": "code",
   "execution_count": 10,
   "metadata": {},
   "outputs": [],
   "source": [
    "x_train = parse_files('C:\\\\Users\\\\Sarah\\\\Desktop\\\\semester 9\\\\Machine Learning\\\\Assignment3 ML\\\\Images\\\\', 240)\n",
    "means30, memberships30 = repeat_30(x_train)"
   ]
  },
  {
   "cell_type": "code",
   "execution_count": 11,
   "metadata": {},
   "outputs": [
    {
     "data": {
      "text/plain": [
       "array([23812.79996349, 23311.78537024, 23205.33258281, 23898.0295203 ,\n",
       "       23910.10863638, 24737.91741765, 23720.35712797, 23796.29818233,\n",
       "       23892.15920683, 23822.16432875, 21618.77983437, 23965.1767889 ,\n",
       "       23747.82707744, 24163.74268133, 23853.75284345, 23925.27641843,\n",
       "       23805.97412684, 23839.6128781 , 24016.76035967, 20891.44600572,\n",
       "       22399.39720928, 24014.85950045, 25034.29552464, 20975.84050671,\n",
       "       20992.33626335, 23870.55003966, 21566.57097481, 23578.04361262,\n",
       "       23773.11284043, 23974.96213215])"
      ]
     },
     "execution_count": 11,
     "metadata": {},
     "output_type": "execute_result"
    }
   ],
   "source": [
    "# should have 30 values\n",
    "clusters_distances = []\n",
    "for i in range(0, 30):\n",
    "    means = means30[i]\n",
    "    memberships = memberships30[i]\n",
    "    # compute the distance between each point and its centroid, then sum them up\n",
    "    distances = []\n",
    "    for j in range(0, 2400):\n",
    "        m = memberships[i]\n",
    "        distances.append(np.linalg.norm(x_train[j]-means[m]))\n",
    "    # now the distances list is of length 2400\n",
    "    distances = np.array(distances)\n",
    "    clusters_distances.append(np.sum(distances))\n",
    "clusters_distances = np.array(clusters_distances)\n",
    "clusters_distances"
   ]
  },
  {
   "cell_type": "code",
   "execution_count": 12,
   "metadata": {},
   "outputs": [
    {
     "data": {
      "text/plain": [
       "19"
      ]
     },
     "execution_count": 12,
     "metadata": {},
     "output_type": "execute_result"
    }
   ],
   "source": [
    "chosen_cluster = np.argmin(clusters_distances)\n",
    "chosen_cluster"
   ]
  },
  {
   "cell_type": "markdown",
   "metadata": {},
   "source": [
    "<b> <h3>The best initialization is the one that produced minimum within cluster distance</h3> </b>"
   ]
  },
  {
   "cell_type": "code",
   "execution_count": 13,
   "metadata": {},
   "outputs": [
    {
     "data": {
      "image/png": "[encoded data removed]",
      "text/plain": [
       "<Figure size 360x360 with 1 Axes>"
      ]
     },
     "metadata": {
      "needs_background": "light"
     },
     "output_type": "display_data"
    }
   ],
   "source": [
    "# get the counts for this cluster\n",
    "counts = get_counts(memberships30[chosen_cluster])\n",
    "x = [0,1,2,3,4,5,6,7,8,9]\n",
    "y = counts\n",
    "plt.figure(figsize=(5,5))\n",
    "plt.bar(x,y)\n",
    "plt.xticks(x)\n",
    "plt.savefig('Counts.jpg')\n",
    "plt.show()"
   ]
  },
  {
   "cell_type": "code",
   "execution_count": null,
   "metadata": {},
   "outputs": [],
   "source": []
  }
 ],
 "metadata": {
  "file_extension": ".py",
  "kernelspec": {
   "display_name": "Python 3",
   "language": "python",
   "name": "python3"
  },
  "language_info": {
   "codemirror_mode": {
    "name": "ipython",
    "version": 3
   },
   "file_extension": ".py",
   "mimetype": "text/x-python",
   "name": "python",
   "nbconvert_exporter": "python",
   "pygments_lexer": "ipython3",
   "version": "3.7.3"
  },
  "mimetype": "text/x-python",
  "name": "python",
  "npconvert_exporter": "python",
  "pygments_lexer": "ipython3",
  "version": 3
 },
 "nbformat": 4,
 "nbformat_minor": 2
}
