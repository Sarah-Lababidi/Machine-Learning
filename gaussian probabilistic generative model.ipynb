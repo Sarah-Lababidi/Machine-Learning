{
 "cells": [
  {
   "cell_type": "code",
   "execution_count": 1,
   "metadata": {},
   "outputs": [],
   "source": [
    "import numpy as np\n",
    "import matplotlib.pyplot as plt"
   ]
  },
  {
   "cell_type": "code",
   "execution_count": 2,
   "metadata": {},
   "outputs": [],
   "source": [
    "def parse_files(root, num):\n",
    "  xtilda =  []\n",
    "  labels = []\n",
    "  label = 0\n",
    "  for i in range(1, (num*10)+1):\n",
    "    pixels = plt.imread(root+str(i)+'.jpg')\n",
    "    pixels = [x / 255 for x in pixels]\n",
    "    pixels = np.append(pixels, 1)\n",
    "    xtilda.append(pixels)\n",
    "    \n",
    "    # labels are added according to the filename \n",
    "    if(i%num == 0):\n",
    "      label = (i//num)-1\n",
    "    else:\n",
    "      label = i//num\n",
    "\n",
    "    labels.append(label)\n",
    "\n",
    "\n",
    "  xtilda = np.array(xtilda)  \n",
    "#   delete the ones column\n",
    "  xtilda = np.delete(xtilda, 784, axis=1)\n",
    "  labels = np.array(labels)\n",
    "  return xtilda, labels"
   ]
  },
  {
   "cell_type": "code",
   "execution_count": 6,
   "metadata": {},
   "outputs": [],
   "source": [
    "x_train, labels = parse_files('C:\\\\Users\\\\Sarah\\\\Desktop\\\\Assignment2 ML\\\\Train\\\\', 240)"
   ]
  },
  {
   "cell_type": "code",
   "execution_count": 7,
   "metadata": {},
   "outputs": [],
   "source": [
    "def get_info(x_train):\n",
    "    parts = np.split(x_train, 10)\n",
    "    means = []\n",
    "    stds = []\n",
    "    for i in range(0, 10):\n",
    "        means.append(np.mean(parts[i], axis=0))\n",
    "        stds.append(np.std(parts[i], axis=0))\n",
    "    stds = np.array(stds)\n",
    "    variances = np.square(stds)    \n",
    "    means = np.array(means)\n",
    "    for i in range(len(variances)):\n",
    "        for j in range(len(variances[i])):\n",
    "            if(variances[i][j]<0.01):\n",
    "                variances[i][j]=0.01\n",
    "    return means, variances"
   ]
  },
  {
   "cell_type": "code",
   "execution_count": 8,
   "metadata": {},
   "outputs": [
    {
     "name": "stderr",
     "output_type": "stream",
     "text": [
      "C:\\Users\\Sarah\\Anaconda3\\lib\\site-packages\\numpy\\core\\fromnumeric.py:86: RuntimeWarning: overflow encountered in reduce\n",
      "  return ufunc.reduce(obj, axis, dtype, out, **passkwargs)\n"
     ]
    },
    {
     "data": {
      "text/plain": [
       "array([0, 0, 0, 0, 0, 0, 0, 0, 0, 0, 0, 0, 0, 8, 0, 0, 0, 0, 6, 0, 1, 1,\n",
       "       1, 1, 1, 1, 1, 1, 1, 1, 1, 1, 1, 1, 1, 1, 1, 1, 1, 1, 2, 8, 2, 2,\n",
       "       2, 2, 2, 2, 5, 2, 2, 2, 9, 6, 2, 2, 2, 2, 2, 2, 8, 8, 3, 3, 3, 3,\n",
       "       3, 3, 3, 3, 3, 3, 3, 3, 3, 3, 3, 3, 3, 5, 4, 9, 4, 4, 6, 4, 6, 4,\n",
       "       4, 4, 4, 4, 9, 9, 6, 4, 4, 8, 4, 9, 8, 5, 8, 5, 5, 8, 5, 5, 5, 9,\n",
       "       4, 5, 5, 4, 5, 5, 5, 5, 5, 5, 8, 6, 6, 6, 6, 6, 6, 6, 6, 6, 6, 6,\n",
       "       6, 6, 6, 6, 6, 6, 6, 6, 7, 7, 7, 7, 7, 7, 7, 7, 7, 9, 7, 9, 4, 9,\n",
       "       4, 9, 9, 7, 7, 4, 8, 8, 8, 8, 8, 8, 8, 8, 8, 8, 8, 8, 8, 0, 8, 8,\n",
       "       9, 8, 8, 8, 9, 9, 9, 0, 7, 9, 3, 8, 9, 9, 9, 9, 9, 9, 9, 4, 4, 4,\n",
       "       9, 9], dtype=int64)"
      ]
     },
     "execution_count": 8,
     "metadata": {},
     "output_type": "execute_result"
    }
   ],
   "source": [
    "means, variances = get_info(x_train)\n",
    "x_test, true_labels = parse_files('C:\\\\Users\\\\Sarah\\\\Desktop\\\\Assignment2 ML\\\\Test\\\\', 20)\n",
    "predicted_labels=[]\n",
    "for i in range(0,200):\n",
    "    probs = []\n",
    "    for j in range(0,10):\n",
    "        n = np.exp(-((x_test[i]-means[j])**2)/(2*variances[j]))\n",
    "        g = n/(np.sqrt(2*np.pi*variances[j]))\n",
    "        g = np.array(g)\n",
    "        result = np.prod(g)\n",
    "        probs += [result]\n",
    "        label = np.argmax(probs)\n",
    "    predicted_labels.append(label)\n",
    "predicted_labels = np.array(predicted_labels)\n",
    "predicted_labels  "
   ]
  },
  {
   "cell_type": "code",
   "execution_count": 9,
   "metadata": {},
   "outputs": [],
   "source": [
    "def get_cm(true, predicted):\n",
    "  n = np.unique(true).size\n",
    "  cm = np.zeros(n*n).reshape(n, n)\n",
    "  for i in range(0, true.size):\n",
    "    cm[true[i]][predicted[i]]+=1\n",
    "    \n",
    "  cm = cm.astype(int)\n",
    "  return cm"
   ]
  },
  {
   "cell_type": "code",
   "execution_count": 10,
   "metadata": {},
   "outputs": [],
   "source": [
    "def plot_cm(cm, classes):\n",
    "\n",
    "  fig, ax = plt.subplots(figsize=(10,10))\n",
    "  im = ax.imshow(cm, interpolation='nearest', cmap=plt.cm.Blues)\n",
    "  ax.figure.colorbar(im, ax=ax)\n",
    "  # We want to show all ticks...\n",
    "  ax.set(xticks=np.arange(cm.shape[1]),\n",
    "         yticks=np.arange(cm.shape[0]),\n",
    "         # ... and label them with the respective list entries\n",
    "         xticklabels=classes, yticklabels=classes,\n",
    "         title= 'Confusion Matrix',\n",
    "         ylabel='True label',\n",
    "         xlabel='Predicted label')\n",
    "  ax.set_ylim(len(cm)-0.5, -0.5)\n",
    "\n",
    "  # Rotate the tick labels and set their alignment.\n",
    "  plt.setp(ax.get_xticklabels(), rotation=45, ha=\"right\",\n",
    "           rotation_mode=\"anchor\")\n",
    "\n",
    "  # Loop over data dimensions and create text annotations.\n",
    "  thresh = cm.max() / 2.\n",
    "  for i in range(cm.shape[0]):\n",
    "      for j in range(cm.shape[1]):\n",
    "          ax.text(j, i, format(cm[i, j], 'd'),\n",
    "                  ha=\"center\", va=\"center\",\n",
    "                  color=\"white\" if cm[i, j] > thresh else \"black\")\n",
    "  fig.tight_layout()\n",
    "  plt.savefig('Confusion-Gauss.jpg')\n",
    "  "
   ]
  },
  {
   "cell_type": "code",
   "execution_count": 11,
   "metadata": {},
   "outputs": [
    {
     "data": {
      "image/png": "[encoded data removed]",
      "text/plain": [
       "<Figure size 720x720 with 2 Axes>"
      ]
     },
     "metadata": {
      "needs_background": "light"
     },
     "output_type": "display_data"
    }
   ],
   "source": [
    "classes = [0, 1, 2, 3, 4, 5, 6, 7, 8, 9]\n",
    "cm = get_cm(true_labels, predicted_labels)\n",
    "plot_cm(cm, classes)"
   ]
  },
  {
   "cell_type": "code",
   "execution_count": null,
   "metadata": {},
   "outputs": [],
   "source": []
  }
 ],
 "metadata": {
  "file_extension": ".py",
  "kernelspec": {
   "display_name": "Python 3",
   "language": "python",
   "name": "python3"
  },
  "language_info": {
   "codemirror_mode": {
    "name": "ipython",
    "version": 3
   },
   "file_extension": ".py",
   "mimetype": "text/x-python",
   "name": "python",
   "nbconvert_exporter": "python",
   "pygments_lexer": "ipython3",
   "version": "3.7.3"
  },
  "mimetype": "text/x-python",
  "name": "python",
  "npconvert_exporter": "python",
  "pygments_lexer": "ipython3",
  "version": 3
 },
 "nbformat": 4,
 "nbformat_minor": 2
}
